{
 "cells": [
  {
   "cell_type": "markdown",
   "metadata": {},
   "source": [
    "## World Happiness Report: Exploratory Data Analysis(EDA)"
   ]
  },
  {
   "cell_type": "markdown",
   "metadata": {},
   "source": [
    "In this notebook, we are going to explore and compare World Happiness Report dataset in 2018 and 2021.\n",
    "\n",
    "The situation in 2018 and 2021 is very different and accordingly we will compare which aspects have a stronger influence on the level of happiness and which countries have become happier or vice versa."
   ]
  },
  {
   "cell_type": "markdown",
   "metadata": {},
   "source": [
    "**Import libraries and load the data**"
   ]
  },
  {
   "cell_type": "code",
   "execution_count": 1,
   "metadata": {},
   "outputs": [
    {
     "data": {
      "text/html": [
       "<div>\n",
       "<style scoped>\n",
       "    .dataframe tbody tr th:only-of-type {\n",
       "        vertical-align: middle;\n",
       "    }\n",
       "\n",
       "    .dataframe tbody tr th {\n",
       "        vertical-align: top;\n",
       "    }\n",
       "\n",
       "    .dataframe thead th {\n",
       "        text-align: right;\n",
       "    }\n",
       "</style>\n",
       "<table border=\"1\" class=\"dataframe\">\n",
       "  <thead>\n",
       "    <tr style=\"text-align: right;\">\n",
       "      <th></th>\n",
       "      <th>Country</th>\n",
       "      <th>Happines score</th>\n",
       "      <th>GDP per capita</th>\n",
       "      <th>Social support</th>\n",
       "      <th>Healthy life expectancy</th>\n",
       "      <th>Freedom to make life choices</th>\n",
       "      <th>Generosity</th>\n",
       "      <th>Perceptions of corruption</th>\n",
       "    </tr>\n",
       "  </thead>\n",
       "  <tbody>\n",
       "    <tr>\n",
       "      <th>151</th>\n",
       "      <td>Yemen</td>\n",
       "      <td>3.355</td>\n",
       "      <td>0.442</td>\n",
       "      <td>1.073</td>\n",
       "      <td>0.343</td>\n",
       "      <td>0.244</td>\n",
       "      <td>0.083</td>\n",
       "      <td>0.064</td>\n",
       "    </tr>\n",
       "    <tr>\n",
       "      <th>152</th>\n",
       "      <td>Tanzania</td>\n",
       "      <td>3.303</td>\n",
       "      <td>0.455</td>\n",
       "      <td>0.991</td>\n",
       "      <td>0.381</td>\n",
       "      <td>0.481</td>\n",
       "      <td>0.270</td>\n",
       "      <td>0.097</td>\n",
       "    </tr>\n",
       "    <tr>\n",
       "      <th>153</th>\n",
       "      <td>South Sudan</td>\n",
       "      <td>3.254</td>\n",
       "      <td>0.337</td>\n",
       "      <td>0.608</td>\n",
       "      <td>0.177</td>\n",
       "      <td>0.112</td>\n",
       "      <td>0.224</td>\n",
       "      <td>0.106</td>\n",
       "    </tr>\n",
       "    <tr>\n",
       "      <th>154</th>\n",
       "      <td>Central African Republic</td>\n",
       "      <td>3.083</td>\n",
       "      <td>0.024</td>\n",
       "      <td>0.000</td>\n",
       "      <td>0.010</td>\n",
       "      <td>0.305</td>\n",
       "      <td>0.218</td>\n",
       "      <td>0.038</td>\n",
       "    </tr>\n",
       "    <tr>\n",
       "      <th>155</th>\n",
       "      <td>Burundi</td>\n",
       "      <td>2.905</td>\n",
       "      <td>0.091</td>\n",
       "      <td>0.627</td>\n",
       "      <td>0.145</td>\n",
       "      <td>0.065</td>\n",
       "      <td>0.149</td>\n",
       "      <td>0.076</td>\n",
       "    </tr>\n",
       "  </tbody>\n",
       "</table>\n",
       "</div>"
      ],
      "text/plain": [
       "                      Country  Happines score  GDP per capita  Social support  \\\n",
       "151                     Yemen           3.355           0.442           1.073   \n",
       "152                  Tanzania           3.303           0.455           0.991   \n",
       "153               South Sudan           3.254           0.337           0.608   \n",
       "154  Central African Republic           3.083           0.024           0.000   \n",
       "155                   Burundi           2.905           0.091           0.627   \n",
       "\n",
       "     Healthy life expectancy  Freedom to make life choices  Generosity  \\\n",
       "151                    0.343                         0.244       0.083   \n",
       "152                    0.381                         0.481       0.270   \n",
       "153                    0.177                         0.112       0.224   \n",
       "154                    0.010                         0.305       0.218   \n",
       "155                    0.145                         0.065       0.149   \n",
       "\n",
       "     Perceptions of corruption  \n",
       "151                      0.064  \n",
       "152                      0.097  \n",
       "153                      0.106  \n",
       "154                      0.038  \n",
       "155                      0.076  "
      ]
     },
     "execution_count": 1,
     "metadata": {},
     "output_type": "execute_result"
    }
   ],
   "source": [
    "import pandas as pd\n",
    "import numpy as np\n",
    "import seaborn as sns\n",
    "import matplotlib.pyplot as pltSS\n",
    "\n",
    "df_2018 = pd.read_csv('2018.csv')\n",
    "df_2018 = df_2018.drop(columns=['Overall rank'])\n",
    "\n",
    "df_2018 = df_2018.rename(columns={'Country or region': 'Country',\n",
    "                                  'Score': 'Happines score'})\n",
    "\n",
    "\n",
    "df_2018.tail()"
   ]
  },
  {
   "cell_type": "code",
   "execution_count": 2,
   "metadata": {},
   "outputs": [
    {
     "data": {
      "text/html": [
       "<div>\n",
       "<style scoped>\n",
       "    .dataframe tbody tr th:only-of-type {\n",
       "        vertical-align: middle;\n",
       "    }\n",
       "\n",
       "    .dataframe tbody tr th {\n",
       "        vertical-align: top;\n",
       "    }\n",
       "\n",
       "    .dataframe thead th {\n",
       "        text-align: right;\n",
       "    }\n",
       "</style>\n",
       "<table border=\"1\" class=\"dataframe\">\n",
       "  <thead>\n",
       "    <tr style=\"text-align: right;\">\n",
       "      <th></th>\n",
       "      <th>Country</th>\n",
       "      <th>Happines score</th>\n",
       "      <th>GDP per capita</th>\n",
       "      <th>Social support</th>\n",
       "      <th>Healthy life expectancy</th>\n",
       "      <th>Freedom to make life choices</th>\n",
       "      <th>Generosity</th>\n",
       "      <th>Perceptions of corruption</th>\n",
       "    </tr>\n",
       "  </thead>\n",
       "  <tbody>\n",
       "    <tr>\n",
       "      <th>144</th>\n",
       "      <td>Lesotho</td>\n",
       "      <td>3.512</td>\n",
       "      <td>7.926</td>\n",
       "      <td>0.787</td>\n",
       "      <td>48.700</td>\n",
       "      <td>0.715</td>\n",
       "      <td>-0.131</td>\n",
       "      <td>0.915</td>\n",
       "    </tr>\n",
       "    <tr>\n",
       "      <th>145</th>\n",
       "      <td>Botswana</td>\n",
       "      <td>3.467</td>\n",
       "      <td>9.782</td>\n",
       "      <td>0.784</td>\n",
       "      <td>59.269</td>\n",
       "      <td>0.824</td>\n",
       "      <td>-0.246</td>\n",
       "      <td>0.801</td>\n",
       "    </tr>\n",
       "    <tr>\n",
       "      <th>146</th>\n",
       "      <td>Rwanda</td>\n",
       "      <td>3.415</td>\n",
       "      <td>7.676</td>\n",
       "      <td>0.552</td>\n",
       "      <td>61.400</td>\n",
       "      <td>0.897</td>\n",
       "      <td>0.061</td>\n",
       "      <td>0.167</td>\n",
       "    </tr>\n",
       "    <tr>\n",
       "      <th>147</th>\n",
       "      <td>Zimbabwe</td>\n",
       "      <td>3.145</td>\n",
       "      <td>7.943</td>\n",
       "      <td>0.750</td>\n",
       "      <td>56.201</td>\n",
       "      <td>0.677</td>\n",
       "      <td>-0.047</td>\n",
       "      <td>0.821</td>\n",
       "    </tr>\n",
       "    <tr>\n",
       "      <th>148</th>\n",
       "      <td>Afghanistan</td>\n",
       "      <td>2.523</td>\n",
       "      <td>7.695</td>\n",
       "      <td>0.463</td>\n",
       "      <td>52.493</td>\n",
       "      <td>0.382</td>\n",
       "      <td>-0.102</td>\n",
       "      <td>0.924</td>\n",
       "    </tr>\n",
       "  </tbody>\n",
       "</table>\n",
       "</div>"
      ],
      "text/plain": [
       "         Country  Happines score  GDP per capita  Social support  \\\n",
       "144      Lesotho           3.512           7.926           0.787   \n",
       "145     Botswana           3.467           9.782           0.784   \n",
       "146       Rwanda           3.415           7.676           0.552   \n",
       "147     Zimbabwe           3.145           7.943           0.750   \n",
       "148  Afghanistan           2.523           7.695           0.463   \n",
       "\n",
       "     Healthy life expectancy  Freedom to make life choices  Generosity  \\\n",
       "144                   48.700                         0.715      -0.131   \n",
       "145                   59.269                         0.824      -0.246   \n",
       "146                   61.400                         0.897       0.061   \n",
       "147                   56.201                         0.677      -0.047   \n",
       "148                   52.493                         0.382      -0.102   \n",
       "\n",
       "     Perceptions of corruption  \n",
       "144                      0.915  \n",
       "145                      0.801  \n",
       "146                      0.167  \n",
       "147                      0.821  \n",
       "148                      0.924  "
      ]
     },
     "execution_count": 2,
     "metadata": {},
     "output_type": "execute_result"
    }
   ],
   "source": [
    "df_2021 = pd.read_csv('2021.csv')\n",
    "df_2021 = df_2021[[ 'Country name',\n",
    "                    'Ladder score',\n",
    "                    'Logged GDP per capita', \n",
    "                    'Social support', \n",
    "                    'Healthy life expectancy', \n",
    "                    'Freedom to make life choices', \n",
    "                    'Generosity',\n",
    "                    'Perceptions of corruption']]\n",
    "\n",
    "df_2021 = df_2021.rename(columns={'Country name': 'Country',\n",
    "                                  'Ladder score': 'Happines score',\n",
    "                                  'Logged GDP per capita': 'GDP per capita'})\n",
    "df_2021.tail()"
   ]
  },
  {
   "cell_type": "markdown",
   "metadata": {},
   "source": [
    "**Basic information about dataset**"
   ]
  },
  {
   "cell_type": "code",
   "execution_count": 3,
   "metadata": {},
   "outputs": [
    {
     "name": "stdout",
     "output_type": "stream",
     "text": [
      "<class 'pandas.core.frame.DataFrame'>\n",
      "RangeIndex: 156 entries, 0 to 155\n",
      "Data columns (total 8 columns):\n",
      " #   Column                        Non-Null Count  Dtype  \n",
      "---  ------                        --------------  -----  \n",
      " 0   Country                       156 non-null    object \n",
      " 1   Happines score                156 non-null    float64\n",
      " 2   GDP per capita                156 non-null    float64\n",
      " 3   Social support                156 non-null    float64\n",
      " 4   Healthy life expectancy       156 non-null    float64\n",
      " 5   Freedom to make life choices  156 non-null    float64\n",
      " 6   Generosity                    156 non-null    float64\n",
      " 7   Perceptions of corruption     155 non-null    float64\n",
      "dtypes: float64(7), object(1)\n",
      "memory usage: 9.9+ KB\n"
     ]
    },
    {
     "data": {
      "text/html": [
       "<div>\n",
       "<style scoped>\n",
       "    .dataframe tbody tr th:only-of-type {\n",
       "        vertical-align: middle;\n",
       "    }\n",
       "\n",
       "    .dataframe tbody tr th {\n",
       "        vertical-align: top;\n",
       "    }\n",
       "\n",
       "    .dataframe thead th {\n",
       "        text-align: right;\n",
       "    }\n",
       "</style>\n",
       "<table border=\"1\" class=\"dataframe\">\n",
       "  <thead>\n",
       "    <tr style=\"text-align: right;\">\n",
       "      <th></th>\n",
       "      <th>Happines score</th>\n",
       "      <th>GDP per capita</th>\n",
       "      <th>Social support</th>\n",
       "      <th>Healthy life expectancy</th>\n",
       "      <th>Freedom to make life choices</th>\n",
       "      <th>Generosity</th>\n",
       "      <th>Perceptions of corruption</th>\n",
       "    </tr>\n",
       "  </thead>\n",
       "  <tbody>\n",
       "    <tr>\n",
       "      <th>count</th>\n",
       "      <td>156.000000</td>\n",
       "      <td>156.000000</td>\n",
       "      <td>156.000000</td>\n",
       "      <td>156.000000</td>\n",
       "      <td>156.000000</td>\n",
       "      <td>156.000000</td>\n",
       "      <td>155.000000</td>\n",
       "    </tr>\n",
       "    <tr>\n",
       "      <th>mean</th>\n",
       "      <td>5.375917</td>\n",
       "      <td>0.891449</td>\n",
       "      <td>1.213237</td>\n",
       "      <td>0.597346</td>\n",
       "      <td>0.454506</td>\n",
       "      <td>0.181006</td>\n",
       "      <td>0.112000</td>\n",
       "    </tr>\n",
       "    <tr>\n",
       "      <th>std</th>\n",
       "      <td>1.119506</td>\n",
       "      <td>0.391921</td>\n",
       "      <td>0.302372</td>\n",
       "      <td>0.247579</td>\n",
       "      <td>0.162424</td>\n",
       "      <td>0.098471</td>\n",
       "      <td>0.096492</td>\n",
       "    </tr>\n",
       "    <tr>\n",
       "      <th>min</th>\n",
       "      <td>2.905000</td>\n",
       "      <td>0.000000</td>\n",
       "      <td>0.000000</td>\n",
       "      <td>0.000000</td>\n",
       "      <td>0.000000</td>\n",
       "      <td>0.000000</td>\n",
       "      <td>0.000000</td>\n",
       "    </tr>\n",
       "    <tr>\n",
       "      <th>25%</th>\n",
       "      <td>4.453750</td>\n",
       "      <td>0.616250</td>\n",
       "      <td>1.066750</td>\n",
       "      <td>0.422250</td>\n",
       "      <td>0.356000</td>\n",
       "      <td>0.109500</td>\n",
       "      <td>0.051000</td>\n",
       "    </tr>\n",
       "    <tr>\n",
       "      <th>50%</th>\n",
       "      <td>5.378000</td>\n",
       "      <td>0.949500</td>\n",
       "      <td>1.255000</td>\n",
       "      <td>0.644000</td>\n",
       "      <td>0.487000</td>\n",
       "      <td>0.174000</td>\n",
       "      <td>0.082000</td>\n",
       "    </tr>\n",
       "    <tr>\n",
       "      <th>75%</th>\n",
       "      <td>6.168500</td>\n",
       "      <td>1.197750</td>\n",
       "      <td>1.463000</td>\n",
       "      <td>0.777250</td>\n",
       "      <td>0.578500</td>\n",
       "      <td>0.239000</td>\n",
       "      <td>0.137000</td>\n",
       "    </tr>\n",
       "    <tr>\n",
       "      <th>max</th>\n",
       "      <td>7.632000</td>\n",
       "      <td>2.096000</td>\n",
       "      <td>1.644000</td>\n",
       "      <td>1.030000</td>\n",
       "      <td>0.724000</td>\n",
       "      <td>0.598000</td>\n",
       "      <td>0.457000</td>\n",
       "    </tr>\n",
       "  </tbody>\n",
       "</table>\n",
       "</div>"
      ],
      "text/plain": [
       "       Happines score  GDP per capita  Social support  \\\n",
       "count      156.000000      156.000000      156.000000   \n",
       "mean         5.375917        0.891449        1.213237   \n",
       "std          1.119506        0.391921        0.302372   \n",
       "min          2.905000        0.000000        0.000000   \n",
       "25%          4.453750        0.616250        1.066750   \n",
       "50%          5.378000        0.949500        1.255000   \n",
       "75%          6.168500        1.197750        1.463000   \n",
       "max          7.632000        2.096000        1.644000   \n",
       "\n",
       "       Healthy life expectancy  Freedom to make life choices  Generosity  \\\n",
       "count               156.000000                    156.000000  156.000000   \n",
       "mean                  0.597346                      0.454506    0.181006   \n",
       "std                   0.247579                      0.162424    0.098471   \n",
       "min                   0.000000                      0.000000    0.000000   \n",
       "25%                   0.422250                      0.356000    0.109500   \n",
       "50%                   0.644000                      0.487000    0.174000   \n",
       "75%                   0.777250                      0.578500    0.239000   \n",
       "max                   1.030000                      0.724000    0.598000   \n",
       "\n",
       "       Perceptions of corruption  \n",
       "count                 155.000000  \n",
       "mean                    0.112000  \n",
       "std                     0.096492  \n",
       "min                     0.000000  \n",
       "25%                     0.051000  \n",
       "50%                     0.082000  \n",
       "75%                     0.137000  \n",
       "max                     0.457000  "
      ]
     },
     "execution_count": 3,
     "metadata": {},
     "output_type": "execute_result"
    }
   ],
   "source": [
    "df_2018.info()\n",
    "df_2018.describe()"
   ]
  },
  {
   "cell_type": "markdown",
   "metadata": {},
   "source": [
    "**Unique and dublicated values**"
   ]
  },
  {
   "cell_type": "code",
   "execution_count": 4,
   "metadata": {},
   "outputs": [
    {
     "data": {
      "text/plain": [
       "array(['Finland', 'Norway', 'Denmark', 'Iceland', 'Switzerland',\n",
       "       'Netherlands', 'Canada', 'New Zealand', 'Sweden', 'Australia',\n",
       "       'United Kingdom', 'Austria', 'Costa Rica', 'Ireland', 'Germany',\n",
       "       'Belgium', 'Luxembourg', 'United States', 'Israel',\n",
       "       'United Arab Emirates', 'Czech Republic', 'Malta', 'France',\n",
       "       'Mexico', 'Chile', 'Taiwan', 'Panama', 'Brazil', 'Argentina',\n",
       "       'Guatemala', 'Uruguay', 'Qatar', 'Saudi Arabia', 'Singapore',\n",
       "       'Malaysia', 'Spain', 'Colombia', 'Trinidad & Tobago', 'Slovakia',\n",
       "       'El Salvador', 'Nicaragua', 'Poland', 'Bahrain', 'Uzbekistan',\n",
       "       'Kuwait', 'Thailand', 'Italy', 'Ecuador', 'Belize', 'Lithuania',\n",
       "       'Slovenia', 'Romania', 'Latvia', 'Japan', 'Mauritius', 'Jamaica',\n",
       "       'South Korea', 'Northern Cyprus', 'Russia', 'Kazakhstan', 'Cyprus',\n",
       "       'Bolivia', 'Estonia', 'Paraguay', 'Peru', 'Kosovo', 'Moldova',\n",
       "       'Turkmenistan', 'Hungary', 'Libya', 'Philippines', 'Honduras',\n",
       "       'Belarus', 'Turkey', 'Pakistan', 'Hong Kong', 'Portugal', 'Serbia',\n",
       "       'Greece', 'Lebanon', 'Montenegro', 'Croatia', 'Dominican Republic',\n",
       "       'Algeria', 'Morocco', 'China', 'Azerbaijan', 'Tajikistan',\n",
       "       'Macedonia', 'Jordan', 'Nigeria', 'Kyrgyzstan',\n",
       "       'Bosnia and Herzegovina', 'Mongolia', 'Vietnam', 'Indonesia',\n",
       "       'Bhutan', 'Somalia', 'Cameroon', 'Bulgaria', 'Nepal', 'Venezuela',\n",
       "       'Gabon', 'Palestinian Territories', 'South Africa', 'Iran',\n",
       "       'Ivory Coast', 'Ghana', 'Senegal', 'Laos', 'Tunisia', 'Albania',\n",
       "       'Sierra Leone', 'Congo (Brazzaville)', 'Bangladesh', 'Sri Lanka',\n",
       "       'Iraq', 'Mali', 'Namibia', 'Cambodia', 'Burkina Faso', 'Egypt',\n",
       "       'Mozambique', 'Kenya', 'Zambia', 'Mauritania', 'Ethiopia',\n",
       "       'Georgia', 'Armenia', 'Myanmar', 'Chad', 'Congo (Kinshasa)',\n",
       "       'India', 'Niger', 'Uganda', 'Benin', 'Sudan', 'Ukraine', 'Togo',\n",
       "       'Guinea', 'Lesotho', 'Angola', 'Madagascar', 'Zimbabwe',\n",
       "       'Afghanistan', 'Botswana', 'Malawi', 'Haiti', 'Liberia', 'Syria',\n",
       "       'Rwanda', 'Yemen', 'Tanzania', 'South Sudan',\n",
       "       'Central African Republic', 'Burundi'], dtype=object)"
      ]
     },
     "execution_count": 4,
     "metadata": {},
     "output_type": "execute_result"
    }
   ],
   "source": [
    "df_2018.duplicated().sum()\n",
    "df_2018['Country'].unique()"
   ]
  },
  {
   "cell_type": "code",
   "execution_count": 5,
   "metadata": {},
   "outputs": [
    {
     "data": {
      "text/plain": [
       "array(['Finland', 'Denmark', 'Switzerland', 'Iceland', 'Netherlands',\n",
       "       'Norway', 'Sweden', 'Luxembourg', 'New Zealand', 'Austria',\n",
       "       'Australia', 'Israel', 'Germany', 'Canada', 'Ireland',\n",
       "       'Costa Rica', 'United Kingdom', 'Czech Republic', 'United States',\n",
       "       'Belgium', 'France', 'Bahrain', 'Malta',\n",
       "       'Taiwan Province of China', 'United Arab Emirates', 'Saudi Arabia',\n",
       "       'Spain', 'Italy', 'Slovenia', 'Guatemala', 'Uruguay', 'Singapore',\n",
       "       'Kosovo', 'Slovakia', 'Brazil', 'Mexico', 'Jamaica', 'Lithuania',\n",
       "       'Cyprus', 'Estonia', 'Panama', 'Uzbekistan', 'Chile', 'Poland',\n",
       "       'Kazakhstan', 'Romania', 'Kuwait', 'Serbia', 'El Salvador',\n",
       "       'Mauritius', 'Latvia', 'Colombia', 'Hungary', 'Thailand',\n",
       "       'Nicaragua', 'Japan', 'Argentina', 'Portugal', 'Honduras',\n",
       "       'Croatia', 'Philippines', 'South Korea', 'Peru',\n",
       "       'Bosnia and Herzegovina', 'Moldova', 'Ecuador', 'Kyrgyzstan',\n",
       "       'Greece', 'Bolivia', 'Mongolia', 'Paraguay', 'Montenegro',\n",
       "       'Dominican Republic', 'North Cyprus', 'Belarus', 'Russia',\n",
       "       'Hong Kong S.A.R. of China', 'Tajikistan', 'Vietnam', 'Libya',\n",
       "       'Malaysia', 'Indonesia', 'Congo (Brazzaville)', 'China',\n",
       "       'Ivory Coast', 'Armenia', 'Nepal', 'Bulgaria', 'Maldives',\n",
       "       'Azerbaijan', 'Cameroon', 'Senegal', 'Albania', 'North Macedonia',\n",
       "       'Ghana', 'Niger', 'Turkmenistan', 'Gambia', 'Benin', 'Laos',\n",
       "       'Bangladesh', 'Guinea', 'South Africa', 'Turkey', 'Pakistan',\n",
       "       'Morocco', 'Venezuela', 'Georgia', 'Algeria', 'Ukraine', 'Iraq',\n",
       "       'Gabon', 'Burkina Faso', 'Cambodia', 'Mozambique', 'Nigeria',\n",
       "       'Mali', 'Iran', 'Uganda', 'Liberia', 'Kenya', 'Tunisia', 'Lebanon',\n",
       "       'Namibia', 'Palestinian Territories', 'Myanmar', 'Jordan', 'Chad',\n",
       "       'Sri Lanka', 'Swaziland', 'Comoros', 'Egypt', 'Ethiopia',\n",
       "       'Mauritania', 'Madagascar', 'Togo', 'Zambia', 'Sierra Leone',\n",
       "       'India', 'Burundi', 'Yemen', 'Tanzania', 'Haiti', 'Malawi',\n",
       "       'Lesotho', 'Botswana', 'Rwanda', 'Zimbabwe', 'Afghanistan'],\n",
       "      dtype=object)"
      ]
     },
     "execution_count": 5,
     "metadata": {},
     "output_type": "execute_result"
    }
   ],
   "source": [
    "df_2021.duplicated().sum()\n",
    "df_2021['Country'].unique()"
   ]
  },
  {
   "cell_type": "markdown",
   "metadata": {},
   "source": [
    "**Null values**"
   ]
  },
  {
   "cell_type": "code",
   "execution_count": 6,
   "metadata": {},
   "outputs": [
    {
     "data": {
      "text/plain": [
       "Country                         0\n",
       "Happines score                  0\n",
       "GDP per capita                  0\n",
       "Social support                  0\n",
       "Healthy life expectancy         0\n",
       "Freedom to make life choices    0\n",
       "Generosity                      0\n",
       "Perceptions of corruption       1\n",
       "dtype: int64"
      ]
     },
     "execution_count": 6,
     "metadata": {},
     "output_type": "execute_result"
    }
   ],
   "source": [
    "df_2018.isnull().sum()"
   ]
  },
  {
   "cell_type": "code",
   "execution_count": 7,
   "metadata": {},
   "outputs": [
    {
     "data": {
      "text/plain": [
       "Country                         0\n",
       "Happines score                  0\n",
       "GDP per capita                  0\n",
       "Social support                  0\n",
       "Healthy life expectancy         0\n",
       "Freedom to make life choices    0\n",
       "Generosity                      0\n",
       "Perceptions of corruption       0\n",
       "dtype: int64"
      ]
     },
     "execution_count": 7,
     "metadata": {},
     "output_type": "execute_result"
    }
   ],
   "source": [
    "df_2021.isnull().sum()"
   ]
  },
  {
   "cell_type": "markdown",
   "metadata": {},
   "source": [
    "**Correlation Plot**"
   ]
  },
  {
   "cell_type": "code",
   "execution_count": 8,
   "metadata": {},
   "outputs": [
    {
     "data": {
      "text/plain": [
       "<AxesSubplot:>"
      ]
     },
     "execution_count": 8,
     "metadata": {},
     "output_type": "execute_result"
    },
    {
     "data": {
      "image/png": "[encoded data removed]",
      "text/plain": [
       "<Figure size 432x288 with 2 Axes>"
      ]
     },
     "metadata": {
      "needs_background": "light"
     },
     "output_type": "display_data"
    }
   ],
   "source": [
    "sns.heatmap(df_2018.corr())"
   ]
  },
  {
   "cell_type": "code",
   "execution_count": 9,
   "metadata": {},
   "outputs": [
    {
     "data": {
      "text/plain": [
       "<AxesSubplot:>"
      ]
     },
     "execution_count": 9,
     "metadata": {},
     "output_type": "execute_result"
    },
    {
     "data": {
      "image/png": "[encoded data removed]",
      "text/plain": [
       "<Figure size 432x288 with 2 Axes>"
      ]
     },
     "metadata": {
      "needs_background": "light"
     },
     "output_type": "display_data"
    }
   ],
   "source": [
    "sns.heatmap(df_2021.corr())"
   ]
  },
  {
   "cell_type": "markdown",
   "metadata": {},
   "source": [
    "**What is the happiest(unhappiest) country in 2018 and in 2019 (Top 20)?**"
   ]
  },
  {
   "cell_type": "code",
   "execution_count": 10,
   "metadata": {},
   "outputs": [
    {
     "ename": "NameError",
     "evalue": "name 'plt' is not defined",
     "output_type": "error",
     "traceback": [
      "\u001b[1;31m---------------------------------------------------------------------------\u001b[0m",
      "\u001b[1;31mNameError\u001b[0m                                 Traceback (most recent call last)",
      "\u001b[1;32m~\\AppData\\Local\\Temp/ipykernel_13792/937274706.py\u001b[0m in \u001b[0;36m<module>\u001b[1;34m\u001b[0m\n\u001b[1;32m----> 1\u001b[1;33m \u001b[0mfig\u001b[0m\u001b[1;33m,\u001b[0m \u001b[0maxes\u001b[0m \u001b[1;33m=\u001b[0m \u001b[0mplt\u001b[0m\u001b[1;33m.\u001b[0m\u001b[0msubplots\u001b[0m\u001b[1;33m(\u001b[0m\u001b[0mnrows\u001b[0m\u001b[1;33m=\u001b[0m\u001b[1;36m1\u001b[0m\u001b[1;33m,\u001b[0m \u001b[0mncols\u001b[0m\u001b[1;33m=\u001b[0m\u001b[1;36m2\u001b[0m\u001b[1;33m,\u001b[0m \u001b[0mconstrained_layout\u001b[0m\u001b[1;33m=\u001b[0m\u001b[1;32mTrue\u001b[0m\u001b[1;33m,\u001b[0m \u001b[0mfigsize\u001b[0m \u001b[1;33m=\u001b[0m \u001b[1;33m(\u001b[0m\u001b[1;36m15\u001b[0m\u001b[1;33m,\u001b[0m\u001b[1;36m8\u001b[0m\u001b[1;33m)\u001b[0m\u001b[1;33m)\u001b[0m\u001b[1;33m\u001b[0m\u001b[1;33m\u001b[0m\u001b[0m\n\u001b[0m\u001b[0;32m      2\u001b[0m \u001b[1;33m\u001b[0m\u001b[0m\n\u001b[0;32m      3\u001b[0m \u001b[1;33m\u001b[0m\u001b[0m\n\u001b[0;32m      4\u001b[0m \u001b[0mfig1\u001b[0m \u001b[1;33m=\u001b[0m \u001b[0msns\u001b[0m\u001b[1;33m.\u001b[0m\u001b[0mbarplot\u001b[0m\u001b[1;33m(\u001b[0m\u001b[0mx\u001b[0m\u001b[1;33m=\u001b[0m\u001b[1;34m'Happines score'\u001b[0m\u001b[1;33m,\u001b[0m \u001b[0my\u001b[0m\u001b[1;33m=\u001b[0m\u001b[1;34m'Country'\u001b[0m\u001b[1;33m,\u001b[0m \u001b[0mdata\u001b[0m\u001b[1;33m=\u001b[0m\u001b[0mdf_2018\u001b[0m\u001b[1;33m.\u001b[0m\u001b[0mnlargest\u001b[0m\u001b[1;33m(\u001b[0m\u001b[1;36m20\u001b[0m\u001b[1;33m,\u001b[0m\u001b[1;34m'Happines score'\u001b[0m\u001b[1;33m)\u001b[0m\u001b[1;33m,\u001b[0m \u001b[0max\u001b[0m \u001b[1;33m=\u001b[0m \u001b[0maxes\u001b[0m\u001b[1;33m[\u001b[0m\u001b[1;36m0\u001b[0m\u001b[1;33m]\u001b[0m\u001b[1;33m,\u001b[0m \u001b[0mpalette\u001b[0m \u001b[1;33m=\u001b[0m \u001b[1;34m'coolwarm'\u001b[0m\u001b[1;33m)\u001b[0m\u001b[1;33m\u001b[0m\u001b[1;33m\u001b[0m\u001b[0m\n\u001b[0;32m      5\u001b[0m \u001b[0mfig2\u001b[0m \u001b[1;33m=\u001b[0m \u001b[0msns\u001b[0m\u001b[1;33m.\u001b[0m\u001b[0mbarplot\u001b[0m\u001b[1;33m(\u001b[0m\u001b[0mx\u001b[0m\u001b[1;33m=\u001b[0m\u001b[1;34m'Happines score'\u001b[0m\u001b[1;33m,\u001b[0m \u001b[0my\u001b[0m\u001b[1;33m=\u001b[0m\u001b[1;34m'Country'\u001b[0m\u001b[1;33m,\u001b[0m \u001b[0mdata\u001b[0m\u001b[1;33m=\u001b[0m\u001b[0mdf_2021\u001b[0m\u001b[1;33m.\u001b[0m\u001b[0mnlargest\u001b[0m\u001b[1;33m(\u001b[0m\u001b[1;36m20\u001b[0m\u001b[1;33m,\u001b[0m\u001b[1;34m'Happines score'\u001b[0m\u001b[1;33m)\u001b[0m\u001b[1;33m,\u001b[0m \u001b[0max\u001b[0m \u001b[1;33m=\u001b[0m \u001b[0maxes\u001b[0m\u001b[1;33m[\u001b[0m\u001b[1;36m1\u001b[0m\u001b[1;33m]\u001b[0m\u001b[1;33m,\u001b[0m \u001b[0mpalette\u001b[0m \u001b[1;33m=\u001b[0m \u001b[1;34m'coolwarm'\u001b[0m\u001b[1;33m)\u001b[0m\u001b[1;33m\u001b[0m\u001b[1;33m\u001b[0m\u001b[0m\n",
      "\u001b[1;31mNameError\u001b[0m: name 'plt' is not defined"
     ]
    }
   ],
   "source": [
    "fig, axes = plt.subplots(nrows=1, ncols=2, constrained_layout=True, figsize = (15,8))\n",
    "\n",
    "\n",
    "fig1 = sns.barplot(x='Happines score', y='Country', data=df_2018.nlargest(20,'Happines score'), ax = axes[0], palette = 'coolwarm')\n",
    "fig2 = sns.barplot(x='Happines score', y='Country', data=df_2021.nlargest(20,'Happines score'), ax = axes[1], palette = 'coolwarm')\n",
    "\n",
    "fig1.set(xlabel='Happiness ratio', ylabel='Country')\n",
    "fig2.set(xlabel='Happiness ratio', ylabel='Country')"
   ]
  },
  {
   "cell_type": "code",
   "execution_count": null,
   "metadata": {},
   "outputs": [
    {
     "data": {
      "text/plain": [
       "[Text(0.5, 0, 'Happiness ratio'), Text(0, 0.5, 'Country')]"
      ]
     },
     "execution_count": 11,
     "metadata": {},
     "output_type": "execute_result"
    },
    {
     "data": {
      "image/png": "[encoded data removed]",
      "text/plain": [
       "<Figure size 1080x576 with 2 Axes>"
      ]
     },
     "metadata": {
      "needs_background": "light"
     },
     "output_type": "display_data"
    }
   ],
   "source": [
    "fig, axes = plt.subplots(nrows=1, ncols=2, constrained_layout=True, figsize = (15,8))\n",
    "\n",
    "\n",
    "fig1 = sns.barplot(x='Happines score', y='Country', data=df_2018.tail(20).nlargest(20,'Happines score'), ax = axes[0], palette = 'coolwarm')\n",
    "fig2 = sns.barplot(x='Happines score', y='Country', data=df_2021.tail(20).nlargest(20,'Happines score'), ax = axes[1], palette = 'coolwarm')\n",
    "\n",
    "fig1.set(xlabel='Happiness ratio', ylabel='Country')\n",
    "fig2.set(xlabel='Happiness ratio', ylabel='Country')"
   ]
  },
  {
   "cell_type": "markdown",
   "metadata": {},
   "source": [
    "**What is the ratio of the factors affecting the Happiness Score according to the regions in 2018 and 2021?**"
   ]
  },
  {
   "cell_type": "code",
   "execution_count": null,
   "metadata": {},
   "outputs": [
    {
     "data": {
      "text/plain": [
       "[Text(0.5, 0, 'Percentage of Region'),\n",
       " Text(0, 0.5, 'Region'),\n",
       " Text(0.5, 1.0, 'Factors affecting happiness score')]"
      ]
     },
     "execution_count": 12,
     "metadata": {},
     "output_type": "execute_result"
    },
    {
     "data": {
      "image/png": "[encoded data removed]",
      "text/plain": [
       "<Figure size 1008x504 with 1 Axes>"
      ]
     },
     "metadata": {
      "needs_background": "light"
     },
     "output_type": "display_data"
    }
   ],
   "source": [
    "fig, axes = plt.subplots(figsize = (14,7))\n",
    "\n",
    "sns.set_color_codes(\"muted\")\n",
    "sns.barplot(x='Social support', y='Country', data=df_2018.nlargest(20,'Social support'),  color='g', label='Social support')\n",
    "sns.barplot(x='Healthy life expectancy', y='Country', data=df_2018.nlargest(20,'Healthy life expectancy'), color='b', label='Healthy life')\n",
    "sns.barplot(x='Freedom to make life choices', y='Country', data=df_2018.nlargest(20,'Freedom to make life choices'), color='c', label='Freedom to make life choices')\n",
    "sns.barplot(x='Generosity', y='Country', data=df_2018.nlargest(20,'Generosity'), color='y', label='Generosity')\n",
    "sns.barplot(x='Perceptions of corruption', y='Country', data=df_2018.nlargest(20,'Perceptions of corruption'), color='r', label='Perceptions of corruption')\n",
    "\n",
    "axes.legend(loc=\"lower right\",frameon = True)\n",
    "axes.set(xlabel='Percentage of Region', ylabel='Region',title = \"Factors affecting happiness score\")"
   ]
  },
  {
   "cell_type": "code",
   "execution_count": null,
   "metadata": {},
   "outputs": [
    {
     "data": {
      "text/plain": [
       "[Text(0.5, 0, 'Percentage of Region'),\n",
       " Text(0, 0.5, 'Region'),\n",
       " Text(0.5, 1.0, 'Factors affecting happiness score')]"
      ]
     },
     "execution_count": 13,
     "metadata": {},
     "output_type": "execute_result"
    },
    {
     "data": {
      "image/png": "[encoded data removed]",
      "text/plain": [
       "<Figure size 1008x504 with 1 Axes>"
      ]
     },
     "metadata": {
      "needs_background": "light"
     },
     "output_type": "display_data"
    }
   ],
   "source": [
    "fig, axes = plt.subplots(figsize = (14,7))\n",
    "\n",
    "sns.set_color_codes(\"muted\")\n",
    "sns.barplot(x='Social support', y='Country', data=df_2021.nlargest(20,'Social support'),  color='g', label='Social support')\n",
    "sns.barplot(x='Healthy life expectancy', y='Country', data=df_2021.nlargest(20,'Healthy life expectancy'), color='b', label='Healthy life')\n",
    "sns.barplot(x='Freedom to make life choices', y='Country', data=df_2021.nlargest(20,'Freedom to make life choices'), color='c', label='Freedom to make life choices')\n",
    "sns.barplot(x='Generosity', y='Country', data=df_2021.nlargest(20,'Generosity'), color='y', label='Generosity')\n",
    "sns.barplot(x='Perceptions of corruption', y='Country', data=df_2021.nlargest(20,'Perceptions of corruption'), color='r', label='Perceptions of corruption')\n",
    "\n",
    "axes.legend(loc=\"lower right\",frameon = True)\n",
    "axes.set(xlabel='Percentage of Region', ylabel='Region',title = \"Factors affecting happiness score\")"
   ]
  },
  {
   "cell_type": "markdown",
   "metadata": {},
   "source": [
    "**Most Generous and Most Ungenerous Countries in 2018 and 2021**"
   ]
  },
  {
   "cell_type": "code",
   "execution_count": null,
   "metadata": {},
   "outputs": [
    {
     "data": {
      "text/plain": [
       "<AxesSubplot:xlabel='Generosity', ylabel='Country'>"
      ]
     },
     "execution_count": 14,
     "metadata": {},
     "output_type": "execute_result"
    },
    {
     "data": {
      "image/png": "[encoded data removed]",
      "text/plain": [
       "<Figure size 1080x576 with 2 Axes>"
      ]
     },
     "metadata": {
      "needs_background": "light"
     },
     "output_type": "display_data"
    }
   ],
   "source": [
    "df_2019_g = df_2018[(df_2018.loc[:, 'Generosity'] > 0.3) | (df_2018.loc[:, 'Generosity'] < 0)]\n",
    "df_2021_g = df_2021[(df_2021.loc[:, 'Generosity'] > 0.3) | (df_2021.loc[:, 'Generosity'] < -0.2)]\n",
    "\n",
    "fig, axes = plt.subplots(nrows=1, ncols=2, constrained_layout=True, figsize = (15,8))\n",
    "sns.barplot(x='Generosity', y='Country', data = df_2019_g, ax = axes[0], palette = \"coolwarm\")\n",
    "sns.barplot(x='Generosity', y='Country', data = df_2021_g, ax = axes[1], palette = \"coolwarm\")"
   ]
  },
  {
   "cell_type": "markdown",
   "metadata": {},
   "source": [
    "**Map vizualization of Happiness score**"
   ]
  },
  {
   "cell_type": "code",
   "execution_count": null,
   "metadata": {},
   "outputs": [
    {
     "data": {
      "application/vnd.plotly.v1+json": {
       "config": {
        "linkText": "Export to plot.ly",
        "plotlyServerURL": "https://plot.ly",
        "showLink": false
       },
       "data": [
        {
         "colorbar": {
          "title": {
           "text": "Happiness score"
          }
         },
         "colorscale": [
          [
           0,
           "rgb(158,1,66)"
          ],
          [
           0.1,
           "rgb(213,62,79)"
          ],
          [
           0.2,
           "rgb(244,109,67)"
          ],
          [
           0.3,
           "rgb(253,174,97)"
          ],
          [
           0.4,
           "rgb(254,224,139)"
          ],
          [
           0.5,
           "rgb(255,255,191)"
          ],
          [
           0.6,
           "rgb(230,245,152)"
          ],
          [
           0.7,
           "rgb(171,221,164)"
          ],
          [
           0.8,
           "rgb(102,194,165)"
          ],
          [
           0.9,
           "rgb(50,136,189)"
          ],
          [
           1,
           "rgb(94,79,162)"
          ]
         ],
         "locationmode": "country names",
         "locations": [
          "Finland",
          "Denmark",
          "Switzerland",
          "Iceland",
          "Netherlands",
          "Norway",
          "Sweden",
          "Luxembourg",
          "New Zealand",
          "Austria",
          "Australia",
          "Israel",
          "Germany",
          "Canada",
          "Ireland",
          "Costa Rica",
          "United Kingdom",
          "Czech Republic",
          "United States",
          "Belgium",
          "France",
          "Bahrain",
          "Malta",
          "Taiwan Province of China",
          "United Arab Emirates",
          "Saudi Arabia",
          "Spain",
          "Italy",
          "Slovenia",
          "Guatemala",
          "Uruguay",
          "Singapore",
          "Kosovo",
          "Slovakia",
          "Brazil",
          "Mexico",
          "Jamaica",
          "Lithuania",
          "Cyprus",
          "Estonia",
          "Panama",
          "Uzbekistan",
          "Chile",
          "Poland",
          "Kazakhstan",
          "Romania",
          "Kuwait",
          "Serbia",
          "El Salvador",
          "Mauritius",
          "Latvia",
          "Colombia",
          "Hungary",
          "Thailand",
          "Nicaragua",
          "Japan",
          "Argentina",
          "Portugal",
          "Honduras",
          "Croatia",
          "Philippines",
          "South Korea",
          "Peru",
          "Bosnia and Herzegovina",
          "Moldova",
          "Ecuador",
          "Kyrgyzstan",
          "Greece",
          "Bolivia",
          "Mongolia",
          "Paraguay",
          "Montenegro",
          "Dominican Republic",
          "North Cyprus",
          "Belarus",
          "Russia",
          "Hong Kong S.A.R. of China",
          "Tajikistan",
          "Vietnam",
          "Libya",
          "Malaysia",
          "Indonesia",
          "Congo (Brazzaville)",
          "China",
          "Ivory Coast",
          "Armenia",
          "Nepal",
          "Bulgaria",
          "Maldives",
          "Azerbaijan",
          "Cameroon",
          "Senegal",
          "Albania",
          "North Macedonia",
          "Ghana",
          "Niger",
          "Turkmenistan",
          "Gambia",
          "Benin",
          "Laos",
          "Bangladesh",
          "Guinea",
          "South Africa",
          "Turkey",
          "Pakistan",
          "Morocco",
          "Venezuela",
          "Georgia",
          "Algeria",
          "Ukraine",
          "Iraq",
          "Gabon",
          "Burkina Faso",
          "Cambodia",
          "Mozambique",
          "Nigeria",
          "Mali",
          "Iran",
          "Uganda",
          "Liberia",
          "Kenya",
          "Tunisia",
          "Lebanon",
          "Namibia",
          "Palestinian Territories",
          "Myanmar",
          "Jordan",
          "Chad",
          "Sri Lanka",
          "Swaziland",
          "Comoros",
          "Egypt",
          "Ethiopia",
          "Mauritania",
          "Madagascar",
          "Togo",
          "Zambia",
          "Sierra Leone",
          "India",
          "Burundi",
          "Yemen",
          "Tanzania",
          "Haiti",
          "Malawi",
          "Lesotho",
          "Botswana",
          "Rwanda",
          "Zimbabwe",
          "Afghanistan"
         ],
         "text": [
          "Finland",
          "Denmark",
          "Switzerland",
          "Iceland",
          "Netherlands",
          "Norway",
          "Sweden",
          "Luxembourg",
          "New Zealand",
          "Austria",
          "Australia",
          "Israel",
          "Germany",
          "Canada",
          "Ireland",
          "Costa Rica",
          "United Kingdom",
          "Czech Republic",
          "United States",
          "Belgium",
          "France",
          "Bahrain",
          "Malta",
          "Taiwan Province of China",
          "United Arab Emirates",
          "Saudi Arabia",
          "Spain",
          "Italy",
          "Slovenia",
          "Guatemala",
          "Uruguay",
          "Singapore",
          "Kosovo",
          "Slovakia",
          "Brazil",
          "Mexico",
          "Jamaica",
          "Lithuania",
          "Cyprus",
          "Estonia",
          "Panama",
          "Uzbekistan",
          "Chile",
          "Poland",
          "Kazakhstan",
          "Romania",
          "Kuwait",
          "Serbia",
          "El Salvador",
          "Mauritius",
          "Latvia",
          "Colombia",
          "Hungary",
          "Thailand",
          "Nicaragua",
          "Japan",
          "Argentina",
          "Portugal",
          "Honduras",
          "Croatia",
          "Philippines",
          "South Korea",
          "Peru",
          "Bosnia and Herzegovina",
          "Moldova",
          "Ecuador",
          "Kyrgyzstan",
          "Greece",
          "Bolivia",
          "Mongolia",
          "Paraguay",
          "Montenegro",
          "Dominican Republic",
          "North Cyprus",
          "Belarus",
          "Russia",
          "Hong Kong S.A.R. of China",
          "Tajikistan",
          "Vietnam",
          "Libya",
          "Malaysia",
          "Indonesia",
          "Congo (Brazzaville)",
          "China",
          "Ivory Coast",
          "Armenia",
          "Nepal",
          "Bulgaria",
          "Maldives",
          "Azerbaijan",
          "Cameroon",
          "Senegal",
          "Albania",
          "North Macedonia",
          "Ghana",
          "Niger",
          "Turkmenistan",
          "Gambia",
          "Benin",
          "Laos",
          "Bangladesh",
          "Guinea",
          "South Africa",
          "Turkey",
          "Pakistan",
          "Morocco",
          "Venezuela",
          "Georgia",
          "Algeria",
          "Ukraine",
          "Iraq",
          "Gabon",
          "Burkina Faso",
          "Cambodia",
          "Mozambique",
          "Nigeria",
          "Mali",
          "Iran",
          "Uganda",
          "Liberia",
          "Kenya",
          "Tunisia",
          "Lebanon",
          "Namibia",
          "Palestinian Territories",
          "Myanmar",
          "Jordan",
          "Chad",
          "Sri Lanka",
          "Swaziland",
          "Comoros",
          "Egypt",
          "Ethiopia",
          "Mauritania",
          "Madagascar",
          "Togo",
          "Zambia",
          "Sierra Leone",
          "India",
          "Burundi",
          "Yemen",
          "Tanzania",
          "Haiti",
          "Malawi",
          "Lesotho",
          "Botswana",
          "Rwanda",
          "Zimbabwe",
          "Afghanistan"
         ],
         "type": "choropleth",
         "z": [
          7.842,
          7.62,
          7.571,
          7.554,
          7.464,
          7.392,
          7.363,
          7.324,
          7.277,
          7.268,
          7.183,
          7.157,
          7.155,
          7.103,
          7.085,
          7.069,
          7.064,
          6.965,
          6.951,
          6.834,
          6.69,
          6.647,
          6.602,
          6.584,
          6.561,
          6.494,
          6.491,
          6.483,
          6.461,
          6.435,
          6.431,
          6.377,
          6.372,
          6.331,
          6.33,
          6.317,
          6.309,
          6.255,
          6.223,
          6.189,
          6.18,
          6.179,
          6.172,
          6.166,
          6.152,
          6.14,
          6.106,
          6.078,
          6.061,
          6.049,
          6.032,
          6.012,
          5.992,
          5.985,
          5.972,
          5.94,
          5.929,
          5.929,
          5.919,
          5.882,
          5.88,
          5.845,
          5.84,
          5.813,
          5.766,
          5.764,
          5.744,
          5.723,
          5.716,
          5.677,
          5.653,
          5.581,
          5.545,
          5.536,
          5.534,
          5.477,
          5.477,
          5.466,
          5.411,
          5.41,
          5.384,
          5.345,
          5.342,
          5.339,
          5.306,
          5.283,
          5.269,
          5.266,
          5.198,
          5.171,
          5.142,
          5.132,
          5.117,
          5.101,
          5.088,
          5.074,
          5.066,
          5.051,
          5.045,
          5.03,
          5.025,
          4.984,
          4.956,
          4.948,
          4.934,
          4.918,
          4.892,
          4.891,
          4.887,
          4.875,
          4.854,
          4.852,
          4.834,
          4.83,
          4.794,
          4.759,
          4.723,
          4.721,
          4.636,
          4.625,
          4.607,
          4.596,
          4.584,
          4.574,
          4.517,
          4.426,
          4.395,
          4.355,
          4.325,
          4.308,
          4.289,
          4.283,
          4.275,
          4.227,
          4.208,
          4.107,
          4.073,
          3.849,
          3.819,
          3.775,
          3.658,
          3.623,
          3.615,
          3.6,
          3.512,
          3.467,
          3.415,
          3.145,
          2.523
         ]
        }
       ],
       "layout": {
        "geo": {
         "projection": {
          "type": "azimuthal equal area"
         },
         "showframe": true
        },
        "template": {
         "data": {
          "bar": [
           {
            "error_x": {
             "color": "#2a3f5f"
            },
            "error_y": {
             "color": "#2a3f5f"
            },
            "marker": {
             "line": {
              "color": "#E5ECF6",
              "width": 0.5
             },
             "pattern": {
              "fillmode": "overlay",
              "size": 10,
              "solidity": 0.2
             }
            },
            "type": "bar"
           }
          ],
          "barpolar": [
           {
            "marker": {
             "line": {
              "color": "#E5ECF6",
              "width": 0.5
             },
             "pattern": {
              "fillmode": "overlay",
              "size": 10,
              "solidity": 0.2
             }
            },
            "type": "barpolar"
           }
          ],
          "carpet": [
           {
            "aaxis": {
             "endlinecolor": "#2a3f5f",
             "gridcolor": "white",
             "linecolor": "white",
             "minorgridcolor": "white",
             "startlinecolor": "#2a3f5f"
            },
            "baxis": {
             "endlinecolor": "#2a3f5f",
             "gridcolor": "white",
             "linecolor": "white",
             "minorgridcolor": "white",
             "startlinecolor": "#2a3f5f"
            },
            "type": "carpet"
           }
          ],
          "choropleth": [
           {
            "colorbar": {
             "outlinewidth": 0,
             "ticks": ""
            },
            "type": "choropleth"
           }
          ],
          "contour": [
           {
            "colorbar": {
             "outlinewidth": 0,
             "ticks": ""
            },
            "colorscale": [
             [
              0,
              "#0d0887"
             ],
             [
              0.1111111111111111,
              "#46039f"
             ],
             [
              0.2222222222222222,
              "#7201a8"
             ],
             [
              0.3333333333333333,
              "#9c179e"
             ],
             [
              0.4444444444444444,
              "#bd3786"
             ],
             [
              0.5555555555555556,
              "#d8576b"
             ],
             [
              0.6666666666666666,
              "#ed7953"
             ],
             [
              0.7777777777777778,
              "#fb9f3a"
             ],
             [
              0.8888888888888888,
              "#fdca26"
             ],
             [
              1,
              "#f0f921"
             ]
            ],
            "type": "contour"
           }
          ],
          "contourcarpet": [
           {
            "colorbar": {
             "outlinewidth": 0,
             "ticks": ""
            },
            "type": "contourcarpet"
           }
          ],
          "heatmap": [
           {
            "colorbar": {
             "outlinewidth": 0,
             "ticks": ""
            },
            "colorscale": [
             [
              0,
              "#0d0887"
             ],
             [
              0.1111111111111111,
              "#46039f"
             ],
             [
              0.2222222222222222,
              "#7201a8"
             ],
             [
              0.3333333333333333,
              "#9c179e"
             ],
             [
              0.4444444444444444,
              "#bd3786"
             ],
             [
              0.5555555555555556,
              "#d8576b"
             ],
             [
              0.6666666666666666,
              "#ed7953"
             ],
             [
              0.7777777777777778,
              "#fb9f3a"
             ],
             [
              0.8888888888888888,
              "#fdca26"
             ],
             [
              1,
              "#f0f921"
             ]
            ],
            "type": "heatmap"
           }
          ],
          "heatmapgl": [
           {
            "colorbar": {
             "outlinewidth": 0,
             "ticks": ""
            },
            "colorscale": [
             [
              0,
              "#0d0887"
             ],
             [
              0.1111111111111111,
              "#46039f"
             ],
             [
              0.2222222222222222,
              "#7201a8"
             ],
             [
              0.3333333333333333,
              "#9c179e"
             ],
             [
              0.4444444444444444,
              "#bd3786"
             ],
             [
              0.5555555555555556,
              "#d8576b"
             ],
             [
              0.6666666666666666,
              "#ed7953"
             ],
             [
              0.7777777777777778,
              "#fb9f3a"
             ],
             [
              0.8888888888888888,
              "#fdca26"
             ],
             [
              1,
              "#f0f921"
             ]
            ],
            "type": "heatmapgl"
           }
          ],
          "histogram": [
           {
            "marker": {
             "pattern": {
              "fillmode": "overlay",
              "size": 10,
              "solidity": 0.2
             }
            },
            "type": "histogram"
           }
          ],
          "histogram2d": [
           {
            "colorbar": {
             "outlinewidth": 0,
             "ticks": ""
            },
            "colorscale": [
             [
              0,
              "#0d0887"
             ],
             [
              0.1111111111111111,
              "#46039f"
             ],
             [
              0.2222222222222222,
              "#7201a8"
             ],
             [
              0.3333333333333333,
              "#9c179e"
             ],
             [
              0.4444444444444444,
              "#bd3786"
             ],
             [
              0.5555555555555556,
              "#d8576b"
             ],
             [
              0.6666666666666666,
              "#ed7953"
             ],
             [
              0.7777777777777778,
              "#fb9f3a"
             ],
             [
              0.8888888888888888,
              "#fdca26"
             ],
             [
              1,
              "#f0f921"
             ]
            ],
            "type": "histogram2d"
           }
          ],
          "histogram2dcontour": [
           {
            "colorbar": {
             "outlinewidth": 0,
             "ticks": ""
            },
            "colorscale": [
             [
              0,
              "#0d0887"
             ],
             [
              0.1111111111111111,
              "#46039f"
             ],
             [
              0.2222222222222222,
              "#7201a8"
             ],
             [
              0.3333333333333333,
              "#9c179e"
             ],
             [
              0.4444444444444444,
              "#bd3786"
             ],
             [
              0.5555555555555556,
              "#d8576b"
             ],
             [
              0.6666666666666666,
              "#ed7953"
             ],
             [
              0.7777777777777778,
              "#fb9f3a"
             ],
             [
              0.8888888888888888,
              "#fdca26"
             ],
             [
              1,
              "#f0f921"
             ]
            ],
            "type": "histogram2dcontour"
           }
          ],
          "mesh3d": [
           {
            "colorbar": {
             "outlinewidth": 0,
             "ticks": ""
            },
            "type": "mesh3d"
           }
          ],
          "parcoords": [
           {
            "line": {
             "colorbar": {
              "outlinewidth": 0,
              "ticks": ""
             }
            },
            "type": "parcoords"
           }
          ],
          "pie": [
           {
            "automargin": true,
            "type": "pie"
           }
          ],
          "scatter": [
           {
            "fillpattern": {
             "fillmode": "overlay",
             "size": 10,
             "solidity": 0.2
            },
            "type": "scatter"
           }
          ],
          "scatter3d": [
           {
            "line": {
             "colorbar": {
              "outlinewidth": 0,
              "ticks": ""
             }
            },
            "marker": {
             "colorbar": {
              "outlinewidth": 0,
              "ticks": ""
             }
            },
            "type": "scatter3d"
           }
          ],
          "scattercarpet": [
           {
            "marker": {
             "colorbar": {
              "outlinewidth": 0,
              "ticks": ""
             }
            },
            "type": "scattercarpet"
           }
          ],
          "scattergeo": [
           {
            "marker": {
             "colorbar": {
              "outlinewidth": 0,
              "ticks": ""
             }
            },
            "type": "scattergeo"
           }
          ],
          "scattergl": [
           {
            "marker": {
             "colorbar": {
              "outlinewidth": 0,
              "ticks": ""
             }
            },
            "type": "scattergl"
           }
          ],
          "scattermapbox": [
           {
            "marker": {
             "colorbar": {
              "outlinewidth": 0,
              "ticks": ""
             }
            },
            "type": "scattermapbox"
           }
          ],
          "scatterpolar": [
           {
            "marker": {
             "colorbar": {
              "outlinewidth": 0,
              "ticks": ""
             }
            },
            "type": "scatterpolar"
           }
          ],
          "scatterpolargl": [
           {
            "marker": {
             "colorbar": {
              "outlinewidth": 0,
              "ticks": ""
             }
            },
            "type": "scatterpolargl"
           }
          ],
          "scatterternary": [
           {
            "marker": {
             "colorbar": {
              "outlinewidth": 0,
              "ticks": ""
             }
            },
            "type": "scatterternary"
           }
          ],
          "surface": [
           {
            "colorbar": {
             "outlinewidth": 0,
             "ticks": ""
            },
            "colorscale": [
             [
              0,
              "#0d0887"
             ],
             [
              0.1111111111111111,
              "#46039f"
             ],
             [
              0.2222222222222222,
              "#7201a8"
             ],
             [
              0.3333333333333333,
              "#9c179e"
             ],
             [
              0.4444444444444444,
              "#bd3786"
             ],
             [
              0.5555555555555556,
              "#d8576b"
             ],
             [
              0.6666666666666666,
              "#ed7953"
             ],
             [
              0.7777777777777778,
              "#fb9f3a"
             ],
             [
              0.8888888888888888,
              "#fdca26"
             ],
             [
              1,
              "#f0f921"
             ]
            ],
            "type": "surface"
           }
          ],
          "table": [
           {
            "cells": {
             "fill": {
              "color": "#EBF0F8"
             },
             "line": {
              "color": "white"
             }
            },
            "header": {
             "fill": {
              "color": "#C8D4E3"
             },
             "line": {
              "color": "white"
             }
            },
            "type": "table"
           }
          ]
         },
         "layout": {
          "annotationdefaults": {
           "arrowcolor": "#2a3f5f",
           "arrowhead": 0,
           "arrowwidth": 1
          },
          "autotypenumbers": "strict",
          "coloraxis": {
           "colorbar": {
            "outlinewidth": 0,
            "ticks": ""
           }
          },
          "colorscale": {
           "diverging": [
            [
             0,
             "#8e0152"
            ],
            [
             0.1,
             "#c51b7d"
            ],
            [
             0.2,
             "#de77ae"
            ],
            [
             0.3,
             "#f1b6da"
            ],
            [
             0.4,
             "#fde0ef"
            ],
            [
             0.5,
             "#f7f7f7"
            ],
            [
             0.6,
             "#e6f5d0"
            ],
            [
             0.7,
             "#b8e186"
            ],
            [
             0.8,
             "#7fbc41"
            ],
            [
             0.9,
             "#4d9221"
            ],
            [
             1,
             "#276419"
            ]
           ],
           "sequential": [
            [
             0,
             "#0d0887"
            ],
            [
             0.1111111111111111,
             "#46039f"
            ],
            [
             0.2222222222222222,
             "#7201a8"
            ],
            [
             0.3333333333333333,
             "#9c179e"
            ],
            [
             0.4444444444444444,
             "#bd3786"
            ],
            [
             0.5555555555555556,
             "#d8576b"
            ],
            [
             0.6666666666666666,
             "#ed7953"
            ],
            [
             0.7777777777777778,
             "#fb9f3a"
            ],
            [
             0.8888888888888888,
             "#fdca26"
            ],
            [
             1,
             "#f0f921"
            ]
           ],
           "sequentialminus": [
            [
             0,
             "#0d0887"
            ],
            [
             0.1111111111111111,
             "#46039f"
            ],
            [
             0.2222222222222222,
             "#7201a8"
            ],
            [
             0.3333333333333333,
             "#9c179e"
            ],
            [
             0.4444444444444444,
             "#bd3786"
            ],
            [
             0.5555555555555556,
             "#d8576b"
            ],
            [
             0.6666666666666666,
             "#ed7953"
            ],
            [
             0.7777777777777778,
             "#fb9f3a"
            ],
            [
             0.8888888888888888,
             "#fdca26"
            ],
            [
             1,
             "#f0f921"
            ]
           ]
          },
          "colorway": [
           "#636efa",
           "#EF553B",
           "#00cc96",
           "#ab63fa",
           "#FFA15A",
           "#19d3f3",
           "#FF6692",
           "#B6E880",
           "#FF97FF",
           "#FECB52"
          ],
          "font": {
           "color": "#2a3f5f"
          },
          "geo": {
           "bgcolor": "white",
           "lakecolor": "white",
           "landcolor": "#E5ECF6",
           "showlakes": true,
           "showland": true,
           "subunitcolor": "white"
          },
          "hoverlabel": {
           "align": "left"
          },
          "hovermode": "closest",
          "mapbox": {
           "style": "light"
          },
          "paper_bgcolor": "white",
          "plot_bgcolor": "#E5ECF6",
          "polar": {
           "angularaxis": {
            "gridcolor": "white",
            "linecolor": "white",
            "ticks": ""
           },
           "bgcolor": "#E5ECF6",
           "radialaxis": {
            "gridcolor": "white",
            "linecolor": "white",
            "ticks": ""
           }
          },
          "scene": {
           "xaxis": {
            "backgroundcolor": "#E5ECF6",
            "gridcolor": "white",
            "gridwidth": 2,
            "linecolor": "white",
            "showbackground": true,
            "ticks": "",
            "zerolinecolor": "white"
           },
           "yaxis": {
            "backgroundcolor": "#E5ECF6",
            "gridcolor": "white",
            "gridwidth": 2,
            "linecolor": "white",
            "showbackground": true,
            "ticks": "",
            "zerolinecolor": "white"
           },
           "zaxis": {
            "backgroundcolor": "#E5ECF6",
            "gridcolor": "white",
            "gridwidth": 2,
            "linecolor": "white",
            "showbackground": true,
            "ticks": "",
            "zerolinecolor": "white"
           }
          },
          "shapedefaults": {
           "line": {
            "color": "#2a3f5f"
           }
          },
          "ternary": {
           "aaxis": {
            "gridcolor": "white",
            "linecolor": "white",
            "ticks": ""
           },
           "baxis": {
            "gridcolor": "white",
            "linecolor": "white",
            "ticks": ""
           },
           "bgcolor": "#E5ECF6",
           "caxis": {
            "gridcolor": "white",
            "linecolor": "white",
            "ticks": ""
           }
          },
          "title": {
           "x": 0.05
          },
          "xaxis": {
           "automargin": true,
           "gridcolor": "white",
           "linecolor": "white",
           "ticks": "",
           "title": {
            "standoff": 15
           },
           "zerolinecolor": "white",
           "zerolinewidth": 2
          },
          "yaxis": {
           "automargin": true,
           "gridcolor": "white",
           "linecolor": "white",
           "ticks": "",
           "title": {
            "standoff": 15
           },
           "zerolinecolor": "white",
           "zerolinewidth": 2
          }
         }
        },
        "title": {
         "text": "Geographical Visualization of Happiness score"
        }
       }
      }
     },
     "metadata": {},
     "output_type": "display_data"
    }
   ],
   "source": [
    "import plotly.graph_objs as go\n",
    "from plotly.offline import iplot\n",
    "\n",
    "data = dict(type = 'choropleth',\n",
    "            locations = df_2021['Country'],\n",
    "            locationmode = 'country names',\n",
    "            colorscale = 'Spectral',\n",
    "            z = df_2021['Happines score'],\n",
    "            text = df_2021['Country'],\n",
    "            colorbar = {'title': 'Happiness score'})\n",
    "\n",
    "layout = dict(title = 'Geographical Visualization of Happiness score',\n",
    "              geo = dict(showframe = True, projection = {'type': 'azimuthal equal area'}))\n",
    "choromap3 = go.Figure(data = [data], layout=layout)\n",
    "iplot(choromap3)"
   ]
  },
  {
   "cell_type": "code",
   "execution_count": null,
   "metadata": {},
   "outputs": [
    {
     "data": {
      "image/png": "[encoded data removed]",
      "text/plain": [
       "<IPython.core.display.Image object>"
      ]
     },
     "execution_count": 17,
     "metadata": {},
     "output_type": "execute_result"
    }
   ],
   "source": [
    "from IPython.display import Image\n",
    "Image(\"map.png\")"
   ]
  },
  {
   "cell_type": "code",
   "execution_count": null,
   "metadata": {},
   "outputs": [],
   "source": []
  }
 ],
 "metadata": {
  "kernelspec": {
   "display_name": "Python 3.9.7 ('base')",
   "language": "python",
   "name": "python3"
  },
  "language_info": {
   "codemirror_mode": {
    "name": "ipython",
    "version": 3
   },
   "file_extension": ".py",
   "mimetype": "text/x-python",
   "name": "python",
   "nbconvert_exporter": "python",
   "pygments_lexer": "ipython3",
   "version": "3.9.7"
  },
  "orig_nbformat": 4,
  "vscode": {
   "interpreter": {
    "hash": "f0af47a91e2bf4bf6c422b42256ecbf753a2432c095fa347baef53c5efc62a5f"
   }
  }
 },
 "nbformat": 4,
 "nbformat_minor": 2
}
